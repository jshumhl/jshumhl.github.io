{
 "cells": [
  {
   "cell_type": "code",
   "execution_count": 1,
   "metadata": {},
   "outputs": [],
   "source": [
    "import numpy as np\n",
    "import cv2"
   ]
  },
  {
   "cell_type": "code",
   "execution_count": 2,
   "metadata": {},
   "outputs": [],
   "source": [
    "image = cv2.imread(\"./original.jpg\")"
   ]
  },
  {
   "cell_type": "code",
   "execution_count": 3,
   "metadata": {},
   "outputs": [],
   "source": [
    "def RGBtoAverageGray(image):\n",
    "# Grayscale by taking average of RGB of the image\n",
    "    \n",
    "    for row in range(image.shape[0]):\n",
    "        for col in range(image.shape[1]):\n",
    "            avg = np.mean(image[row,col])\n",
    "            image[row,col] = [avg, avg, avg]\n",
    "    \n",
    "    return image"
   ]
  },
  {
   "cell_type": "code",
   "execution_count": 4,
   "metadata": {},
   "outputs": [],
   "source": [
    "def RGBtoBlackWhite(image):\n",
    "# Creating black and white only images by crearting threshold on the grayscale image\n",
    "\n",
    "    image = RGBtoAverageGray(image)\n",
    "    for row in range(image.shape[0]):\n",
    "        for col in range(image.shape[1]):\n",
    "            if image[row,col, 0] < 127:\n",
    "                 image[row,col] = [0,0,0]\n",
    "            else:\n",
    "                image[row,col] = [255,255,255]\n",
    "    \n",
    "    return image"
   ]
  },
  {
   "cell_type": "code",
   "execution_count": 5,
   "metadata": {},
   "outputs": [
    {
     "data": {
      "text/plain": [
       "True"
      ]
     },
     "execution_count": 5,
     "metadata": {},
     "output_type": "execute_result"
    }
   ],
   "source": [
    "cv2.imshow('Original Image', image)\n",
    "\n",
    "grayscaleImage = RGBtoAverageGray(image)\n",
    "cv2.imshow('Grayscale image', grayscaleImage)\n",
    "cv2.imwrite('./grayscale.jpg', grayscaleImage)\n",
    "\n",
    "blackAndWhiteImage =RGBtoBlackWhite(image)\n",
    "cv2.imshow('Black White image', blackAndWhiteImage)\n",
    "cv2.imwrite('./blackwhite.jpg', blackAndWhiteImage) "
   ]
  },
  {
   "cell_type": "code",
   "execution_count": 6,
   "metadata": {},
   "outputs": [],
   "source": [
    "#closing all open windows  \n",
    "cv2.destroyAllWindows()"
   ]
  }
 ],
 "metadata": {
  "kernelspec": {
   "display_name": "Python 3",
   "language": "python",
   "name": "python3"
  },
  "language_info": {
   "codemirror_mode": {
    "name": "ipython",
    "version": 3
   },
   "file_extension": ".py",
   "mimetype": "text/x-python",
   "name": "python",
   "nbconvert_exporter": "python",
   "pygments_lexer": "ipython3",
   "version": "3.9.1"
  }
 },
 "nbformat": 4,
 "nbformat_minor": 4
}
